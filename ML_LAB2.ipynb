{
  "nbformat": 4,
  "nbformat_minor": 0,
  "metadata": {
    "colab": {
      "provenance": [],
      "authorship_tag": "ABX9TyMW2C7SutZlYDS/5nPQtjc0",
      "include_colab_link": true
    },
    "kernelspec": {
      "name": "python3",
      "display_name": "Python 3"
    },
    "language_info": {
      "name": "python"
    }
  },
  "cells": [
    {
      "cell_type": "markdown",
      "metadata": {
        "id": "view-in-github",
        "colab_type": "text"
      },
      "source": [
        "<a href=\"https://colab.research.google.com/github/Piyush-B/Build-a-thon/blob/master/ML_LAB2.ipynb\" target=\"_parent\"><img src=\"https://colab.research.google.com/assets/colab-badge.svg\" alt=\"Open In Colab\"/></a>"
      ]
    },
    {
      "cell_type": "code",
      "source": [
        "import csv\n",
        "\n",
        "with open(\"/content/sample_dataset.csv\") as f:\n",
        "  csv_file = csv.reader(f)\n",
        "  data = list(csv_file)\n",
        "\n",
        "  specific = data[0][:-1]\n",
        "  general = [['?' for i in range(len(specific))] for j in range(len(specific))]\n",
        "\n",
        "  for i in data:\n",
        "    if i[-1] == \"yes\":\n",
        "\n"
      ],
      "metadata": {
        "id": "xydXQkkFxCDg"
      },
      "execution_count": 6,
      "outputs": []
    }
  ]
}